{
  "nbformat": 4,
  "nbformat_minor": 0,
  "metadata": {
    "colab": {
      "name": "First_lab.ipynb",
      "version": "0.3.2",
      "provenance": [],
      "collapsed_sections": [],
      "include_colab_link": true
    },
    "kernelspec": {
      "name": "python3",
      "display_name": "Python 3"
    }
  },
  "cells": [
    {
      "cell_type": "markdown",
      "metadata": {
        "id": "view-in-github",
        "colab_type": "text"
      },
      "source": [
        "<a href=\"https://colab.research.google.com/github/hemantdhiman92/Teach-tech/blob/master/First_lab.ipynb\" target=\"_parent\"><img src=\"https://colab.research.google.com/assets/colab-badge.svg\" alt=\"Open In Colab\"/></a>"
      ]
    },
    {
      "cell_type": "markdown",
      "metadata": {
        "id": "Qu5njLYT9z3F",
        "colab_type": "text"
      },
      "source": [
        "#introduction to python variable"
      ]
    },
    {
      "cell_type": "code",
      "metadata": {
        "id": "4RHqOHxe97qJ",
        "colab_type": "code",
        "outputId": "702e6a21-06ea-4d1d-a16a-d25585ee2678",
        "colab": {
          "base_uri": "https://localhost:8080/",
          "height": 34
        }
      },
      "source": [
        "a = 10\n",
        "b = 12\n",
        "print('a+b: ',a+b,'a-b: ',a-b)"
      ],
      "execution_count": 0,
      "outputs": [
        {
          "output_type": "stream",
          "text": [
            "a+b:  22 a-b:  -2\n"
          ],
          "name": "stdout"
        }
      ]
    },
    {
      "cell_type": "markdown",
      "metadata": {
        "id": "jmPk3wHl_ch-",
        "colab_type": "text"
      },
      "source": [
        "#types of variable in python"
      ]
    },
    {
      "cell_type": "code",
      "metadata": {
        "id": "Kd5pn2ab-IGd",
        "colab_type": "code",
        "colab": {
          "base_uri": "https://localhost:8080/",
          "height": 85
        },
        "outputId": "64bd50c2-819a-4996-f2be-ee3ecd2cfe29"
      },
      "source": [
        "a = 1\n",
        "print(type(a))\n",
        "a = 1.1\n",
        "print(type(a))\n",
        "a = 1+5j\n",
        "print(type(a))\n",
        "a = 'String'\n",
        "print(type(a))"
      ],
      "execution_count": 3,
      "outputs": [
        {
          "output_type": "stream",
          "text": [
            "<class 'int'>\n",
            "<class 'float'>\n",
            "<class 'complex'>\n",
            "<class 'str'>\n"
          ],
          "name": "stdout"
        }
      ]
    },
    {
      "cell_type": "markdown",
      "metadata": {
        "id": "gjqE_PbEAF8-",
        "colab_type": "text"
      },
      "source": [
        "#String indexing"
      ]
    },
    {
      "cell_type": "code",
      "metadata": {
        "id": "Y0p5wACAAI0E",
        "colab_type": "code",
        "colab": {
          "base_uri": "https://localhost:8080/",
          "height": 136
        },
        "outputId": "05e5fcc9-f13f-4c23-ff2d-00a414ce31f9"
      },
      "source": [
        "a = 'Hemant Dhiman'\n",
        "print(a[0]) #  index 0\n",
        "print(a[1])\n",
        "print(a[2])\n",
        "print(a[3])\n",
        "print('Negative indexing')\n",
        "print(a[-1]) #  from last\n",
        "print(a[-2]) # index  -2"
      ],
      "execution_count": 4,
      "outputs": [
        {
          "output_type": "stream",
          "text": [
            "H\n",
            "e\n",
            "m\n",
            "a\n",
            "Negative indexing\n",
            "n\n",
            "a\n"
          ],
          "name": "stdout"
        }
      ]
    },
    {
      "cell_type": "markdown",
      "metadata": {
        "id": "lBCzfIu7AzcQ",
        "colab_type": "text"
      },
      "source": [
        "# list in python"
      ]
    },
    {
      "cell_type": "code",
      "metadata": {
        "id": "VihjFTM4A1n-",
        "colab_type": "code",
        "colab": {
          "base_uri": "https://localhost:8080/",
          "height": 68
        },
        "outputId": "5226ece3-d15a-4826-e8a7-56a5f76a0944"
      },
      "source": [
        "list_1 = list()\n",
        "print('type: ',type(list_1))\n",
        "print(list_1)\n",
        "list_1.append(1)\n",
        "list_1.append('2')\n",
        "list_1.append(1.2)\n",
        "list_1.append(1+7j)\n",
        "print(list_1)"
      ],
      "execution_count": 7,
      "outputs": [
        {
          "output_type": "stream",
          "text": [
            "type:  <class 'list'>\n",
            "[]\n",
            "[1, '2', 1.2, (1+7j)]\n"
          ],
          "name": "stdout"
        }
      ]
    },
    {
      "cell_type": "markdown",
      "metadata": {
        "id": "ieqPazcPB1hx",
        "colab_type": "text"
      },
      "source": [
        "#indexing of list"
      ]
    },
    {
      "cell_type": "code",
      "metadata": {
        "id": "PMW48ks1Brm8",
        "colab_type": "code",
        "colab": {
          "base_uri": "https://localhost:8080/",
          "height": 34
        },
        "outputId": "aa59a0ca-ed59-4451-b383-ce76a3b939ad"
      },
      "source": [
        "list_1 = [1,2,3,4,5,6]\n",
        "\n",
        "print(list_1[0:4]) # excluding 4"
      ],
      "execution_count": 9,
      "outputs": [
        {
          "output_type": "stream",
          "text": [
            "[1, 2, 3, 4]\n"
          ],
          "name": "stdout"
        }
      ]
    },
    {
      "cell_type": "markdown",
      "metadata": {
        "id": "uC2H2WrEDBnB",
        "colab_type": "text"
      },
      "source": [
        "##adding to lists together"
      ]
    },
    {
      "cell_type": "code",
      "metadata": {
        "id": "t1dy0ifaDEBo",
        "colab_type": "code",
        "colab": {
          "base_uri": "https://localhost:8080/",
          "height": 51
        },
        "outputId": "435dee51-8f7e-4deb-9f7f-8c1b81c9d3f5"
      },
      "source": [
        "a = [1,2,3,4]\n",
        "b = [5,6,7,8]\n",
        "c = a+b\n",
        "print(c)\n",
        "d = 'String'\n",
        "c.append(d)\n",
        "print(c)"
      ],
      "execution_count": 10,
      "outputs": [
        {
          "output_type": "stream",
          "text": [
            "[1, 2, 3, 4, 5, 6, 7, 8]\n",
            "[1, 2, 3, 4, 5, 6, 7, 8, 'String']\n"
          ],
          "name": "stdout"
        }
      ]
    },
    {
      "cell_type": "code",
      "metadata": {
        "id": "0AtFUCcrDPBL",
        "colab_type": "code",
        "colab": {}
      },
      "source": [
        ""
      ],
      "execution_count": 0,
      "outputs": []
    }
  ]
}