{
  "nbformat": 4,
  "nbformat_minor": 0,
  "metadata": {
    "colab": {
      "name": "First_lab.ipynb",
      "version": "0.3.2",
      "provenance": [],
      "collapsed_sections": [],
      "include_colab_link": true
    },
    "kernelspec": {
      "name": "python3",
      "display_name": "Python 3"
    }
  },
  "cells": [
    {
      "cell_type": "markdown",
      "metadata": {
        "id": "view-in-github",
        "colab_type": "text"
      },
      "source": [
        "<a href=\"https://colab.research.google.com/github/hemantdhiman92/Teach-tech/blob/master/First_lab.ipynb\" target=\"_parent\"><img src=\"https://colab.research.google.com/assets/colab-badge.svg\" alt=\"Open In Colab\"/></a>"
      ]
    },
    {
      "cell_type": "markdown",
      "metadata": {
        "id": "Qu5njLYT9z3F",
        "colab_type": "text"
      },
      "source": [
        "#introduction to python variable"
      ]
    },
    {
      "cell_type": "code",
      "metadata": {
        "id": "4RHqOHxe97qJ",
        "colab_type": "code",
        "outputId": "702e6a21-06ea-4d1d-a16a-d25585ee2678",
        "colab": {
          "base_uri": "https://localhost:8080/",
          "height": 34
        }
      },
      "source": [
        "a = 10\n",
        "b = 12\n",
        "print('a+b: ',a+b,'a-b: ',a-b)"
      ],
      "execution_count": 0,
      "outputs": [
        {
          "output_type": "stream",
          "text": [
            "a+b:  22 a-b:  -2\n"
          ],
          "name": "stdout"
        }
      ]
    },
    {
      "cell_type": "markdown",
      "metadata": {
        "id": "jmPk3wHl_ch-",
        "colab_type": "text"
      },
      "source": [
        "#types of variable in python"
      ]
    },
    {
      "cell_type": "code",
      "metadata": {
        "id": "Kd5pn2ab-IGd",
        "colab_type": "code",
        "colab": {
          "base_uri": "https://localhost:8080/",
          "height": 85
        },
        "outputId": "64bd50c2-819a-4996-f2be-ee3ecd2cfe29"
      },
      "source": [
        "a = 1\n",
        "print(type(a))\n",
        "a = 1.1\n",
        "print(type(a))\n",
        "a = 1+5j\n",
        "print(type(a))\n",
        "a = 'String'\n",
        "print(type(a))"
      ],
      "execution_count": 3,
      "outputs": [
        {
          "output_type": "stream",
          "text": [
            "<class 'int'>\n",
            "<class 'float'>\n",
            "<class 'complex'>\n",
            "<class 'str'>\n"
          ],
          "name": "stdout"
        }
      ]
    },
    {
      "cell_type": "markdown",
      "metadata": {
        "id": "gjqE_PbEAF8-",
        "colab_type": "text"
      },
      "source": [
        "#String indexing"
      ]
    },
    {
      "cell_type": "code",
      "metadata": {
        "id": "Y0p5wACAAI0E",
        "colab_type": "code",
        "colab": {
          "base_uri": "https://localhost:8080/",
          "height": 136
        },
        "outputId": "05e5fcc9-f13f-4c23-ff2d-00a414ce31f9"
      },
      "source": [
        "a = 'Hemant Dhiman'\n",
        "print(a[0]) #  index 0\n",
        "print(a[1])\n",
        "print(a[2])\n",
        "print(a[3])\n",
        "print('Negative indexing')\n",
        "print(a[-1]) #  from last\n",
        "print(a[-2]) # index  -2"
      ],
      "execution_count": 4,
      "outputs": [
        {
          "output_type": "stream",
          "text": [
            "H\n",
            "e\n",
            "m\n",
            "a\n",
            "Negative indexing\n",
            "n\n",
            "a\n"
          ],
          "name": "stdout"
        }
      ]
    },
    {
      "cell_type": "markdown",
      "metadata": {
        "id": "lBCzfIu7AzcQ",
        "colab_type": "text"
      },
      "source": [
        "# list in python"
      ]
    },
    {
      "cell_type": "code",
      "metadata": {
        "id": "VihjFTM4A1n-",
        "colab_type": "code",
        "colab": {
          "base_uri": "https://localhost:8080/",
          "height": 68
        },
        "outputId": "5226ece3-d15a-4826-e8a7-56a5f76a0944"
      },
      "source": [
        "list_1 = list()\n",
        "print('type: ',type(list_1))\n",
        "print(list_1)\n",
        "list_1.append(1)\n",
        "list_1.append('2')\n",
        "list_1.append(1.2)\n",
        "list_1.append(1+7j)\n",
        "print(list_1)"
      ],
      "execution_count": 7,
      "outputs": [
        {
          "output_type": "stream",
          "text": [
            "type:  <class 'list'>\n",
            "[]\n",
            "[1, '2', 1.2, (1+7j)]\n"
          ],
          "name": "stdout"
        }
      ]
    },
    {
      "cell_type": "markdown",
      "metadata": {
        "id": "ieqPazcPB1hx",
        "colab_type": "text"
      },
      "source": [
        "#indexing of list"
      ]
    },
    {
      "cell_type": "code",
      "metadata": {
        "id": "PMW48ks1Brm8",
        "colab_type": "code",
        "colab": {
          "base_uri": "https://localhost:8080/",
          "height": 34
        },
        "outputId": "aa59a0ca-ed59-4451-b383-ce76a3b939ad"
      },
      "source": [
        "list_1 = [1,2,3,4,5,6]\n",
        "\n",
        "print(list_1[0:4]) # excluding 4"
      ],
      "execution_count": 9,
      "outputs": [
        {
          "output_type": "stream",
          "text": [
            "[1, 2, 3, 4]\n"
          ],
          "name": "stdout"
        }
      ]
    },
    {
      "cell_type": "markdown",
      "metadata": {
        "id": "uC2H2WrEDBnB",
        "colab_type": "text"
      },
      "source": [
        "##adding to lists together"
      ]
    },
    {
      "cell_type": "code",
      "metadata": {
        "id": "t1dy0ifaDEBo",
        "colab_type": "code",
        "colab": {
          "base_uri": "https://localhost:8080/",
          "height": 51
        },
        "outputId": "435dee51-8f7e-4deb-9f7f-8c1b81c9d3f5"
      },
      "source": [
        "a = [1,2,3,4]\n",
        "b = [5,6,7,8]\n",
        "c = a+b\n",
        "print(c)\n",
        "d = 'String'\n",
        "c.append(d)\n",
        "print(c)"
      ],
      "execution_count": 10,
      "outputs": [
        {
          "output_type": "stream",
          "text": [
            "[1, 2, 3, 4, 5, 6, 7, 8]\n",
            "[1, 2, 3, 4, 5, 6, 7, 8, 'String']\n"
          ],
          "name": "stdout"
        }
      ]
    },
    {
      "cell_type": "code",
      "metadata": {
        "id": "0AtFUCcrDPBL",
        "colab_type": "code",
        "colab": {}
      },
      "source": [
        ""
      ],
      "execution_count": 0,
      "outputs": []
    },
    {
      "cell_type": "markdown",
      "metadata": {
        "id": "EFeXaWJYEFNC",
        "colab_type": "text"
      },
      "source": [
        "#list slicing"
      ]
    },
    {
      "cell_type": "code",
      "metadata": {
        "id": "IoSgHGFdEKPq",
        "colab_type": "code",
        "colab": {
          "base_uri": "https://localhost:8080/",
          "height": 85
        },
        "outputId": "ef429ad5-e928-41ca-fb2b-d32e9aa79f0a"
      },
      "source": [
        "a = ['Banana','Milk','carrot']\n",
        "print(a)\n",
        "# replacing index 2 value\n",
        "a[2] = 'Tomato'\n",
        "print(a)\n",
        "# adding\n",
        "a.append('Hello')\n",
        "print(a)\n",
        "#slicing\n",
        "print(a[1:3]) # extracting the sub list"
      ],
      "execution_count": 13,
      "outputs": [
        {
          "output_type": "stream",
          "text": [
            "['Banana', 'Milk', 'carrot']\n",
            "['Banana', 'Milk', 'Tomato']\n",
            "['Banana', 'Milk', 'Tomato', 'Hello']\n",
            "['Milk', 'Tomato']\n"
          ],
          "name": "stdout"
        }
      ]
    },
    {
      "cell_type": "code",
      "metadata": {
        "id": "_SfyczhlEueg",
        "colab_type": "code",
        "colab": {}
      },
      "source": [
        ""
      ],
      "execution_count": 0,
      "outputs": []
    },
    {
      "cell_type": "markdown",
      "metadata": {
        "id": "0SmUVVmMFkor",
        "colab_type": "text"
      },
      "source": [
        "# Dicstionary in python"
      ]
    },
    {
      "cell_type": "code",
      "metadata": {
        "id": "Hh8izexGFoxS",
        "colab_type": "code",
        "colab": {
          "base_uri": "https://localhost:8080/",
          "height": 255
        },
        "outputId": "29d826f0-592b-476c-afd0-6075e7571dae"
      },
      "source": [
        "dict_1 = dict()\n",
        "print('Type: ',type(dict_1))\n",
        "dict_1['Milk'] = '1 Ltr'\n",
        "dict_1['Banana'] = 12\n",
        "dict_1['Carrot'] = 1\n",
        "print(dict_1,'\\n')\n",
        "for i in dict_1:\n",
        "  print(i,'=',dict_1[i])\n",
        "\n",
        "print('Length of dict_1: ',len(dict_1))\n",
        "\n",
        "#modification of dicstionary\n",
        "print('After Modification')\n",
        "dict_1['Carrot'] = 10\n",
        "print(dict_1)\n",
        "\n",
        "# update method\n",
        "dict_1.update(Apple = 4)\n",
        "print('After update method')\n",
        "print(dict_1)\n",
        "\n",
        "print('keys() and values() method')\n",
        "# keys() method\n",
        "print(dict_1.keys())\n",
        "# values() method\n",
        "print(dict_1.values())"
      ],
      "execution_count": 24,
      "outputs": [
        {
          "output_type": "stream",
          "text": [
            "Type:  <class 'dict'>\n",
            "{'Milk': '1 Ltr', 'Banana': 12, 'Carrot': 1} \n",
            "\n",
            "Milk = 1 Ltr\n",
            "Banana = 12\n",
            "Carrot = 1\n",
            "Length of dict_1:  3\n",
            "After Modification\n",
            "{'Milk': '1 Ltr', 'Banana': 12, 'Carrot': 10}\n",
            "After update method\n",
            "{'Milk': '1 Ltr', 'Banana': 12, 'Carrot': 10, 'Apple': 4}\n",
            "keys() and values() method\n",
            "dict_keys(['Milk', 'Banana', 'Carrot', 'Apple'])\n",
            "dict_values(['1 Ltr', 12, 10, 4])\n"
          ],
          "name": "stdout"
        }
      ]
    },
    {
      "cell_type": "code",
      "metadata": {
        "id": "vD5R7iRAF-Bw",
        "colab_type": "code",
        "colab": {}
      },
      "source": [
        ""
      ],
      "execution_count": 0,
      "outputs": []
    },
    {
      "cell_type": "markdown",
      "metadata": {
        "id": "Vb5CTPzoJNs_",
        "colab_type": "text"
      },
      "source": [
        "# conditionals in python\n",
        "###if\n",
        "###if else\n",
        "###if elif else"
      ]
    },
    {
      "cell_type": "code",
      "metadata": {
        "id": "zWI9gnuvJQjx",
        "colab_type": "code",
        "colab": {
          "base_uri": "https://localhost:8080/",
          "height": 34
        },
        "outputId": "137bbaed-8ab9-4de0-fd99-750760536f03"
      },
      "source": [
        "i = 4 #  initialising i with positive integer\n",
        "if i == 0:\n",
        "  print('Zero')\n",
        "elif i < 0:\n",
        "    print('Negative number: ',i)\n",
        "elif i > 0:\n",
        "    print('Positive number: ',i)\n",
        "else:\n",
        "    print('Wrong Number!')\n",
        "      \n",
        "    \n"
      ],
      "execution_count": 30,
      "outputs": [
        {
          "output_type": "stream",
          "text": [
            "Positive number:  4\n"
          ],
          "name": "stdout"
        }
      ]
    },
    {
      "cell_type": "code",
      "metadata": {
        "id": "PXpvMKSQKbch",
        "colab_type": "code",
        "colab": {
          "base_uri": "https://localhost:8080/",
          "height": 34
        },
        "outputId": "d566c472-34d4-4cd5-c491-12a6cca8b416"
      },
      "source": [
        "list_1 = {'Banana':1, 'Carrot':3, 'Tomato':3}\n",
        "if 'Banana' in list_1:\n",
        "  list_1['Banana'] = list_1['Banana'] + 5\n",
        "else:\n",
        "    print('Banana is not in dict')\n",
        "print(list_1)"
      ],
      "execution_count": 32,
      "outputs": [
        {
          "output_type": "stream",
          "text": [
            "{'Banana': 6, 'Carrot': 3, 'Tomato': 3}\n"
          ],
          "name": "stdout"
        }
      ]
    },
    {
      "cell_type": "markdown",
      "metadata": {
        "id": "ZSsewCfiL92O",
        "colab_type": "text"
      },
      "source": [
        "# Loops in Python\n",
        "###for loop\n",
        "###while loop"
      ]
    },
    {
      "cell_type": "code",
      "metadata": {
        "id": "BbcGAb3OLpOv",
        "colab_type": "code",
        "colab": {
          "base_uri": "https://localhost:8080/",
          "height": 85
        },
        "outputId": "6b982186-4205-49ad-a2c2-205c59e81211"
      },
      "source": [
        "# for loop to print 0 to 10 number\n",
        "print('For loop')\n",
        "for i in range(0,11):\n",
        "  print(i,end=',')\n",
        "print('\\nWhile loop')\n",
        "# while loop\n",
        "i = 0\n",
        "while(i<=10):\n",
        "  print(i,end=',')\n",
        "  i += 1"
      ],
      "execution_count": 37,
      "outputs": [
        {
          "output_type": "stream",
          "text": [
            "For loop\n",
            "0,1,2,3,4,5,6,7,8,9,10,\n",
            "While loop\n",
            "0,1,2,3,4,5,6,7,8,9,10,"
          ],
          "name": "stdout"
        }
      ]
    },
    {
      "cell_type": "code",
      "metadata": {
        "id": "AT11YN2zMW5Y",
        "colab_type": "code",
        "colab": {
          "base_uri": "https://localhost:8080/",
          "height": 85
        },
        "outputId": "932a5a56-be15-473d-eb06-1b2c7871e2ad"
      },
      "source": [
        "#list all integer starting from 0 such that the sum of their squars is \n",
        "#less than 20\n",
        "i = 0 \n",
        "sum = 0\n",
        "while(sum < 20):\n",
        "  print(i)\n",
        "  i += 1\n",
        "  sum += i**2"
      ],
      "execution_count": 49,
      "outputs": [
        {
          "output_type": "stream",
          "text": [
            "0\n",
            "1\n",
            "2\n",
            "3\n"
          ],
          "name": "stdout"
        }
      ]
    },
    {
      "cell_type": "markdown",
      "metadata": {
        "id": "s1ez6B8WQA8j",
        "colab_type": "text"
      },
      "source": [
        "#functions in python"
      ]
    },
    {
      "cell_type": "code",
      "metadata": {
        "id": "rzvkOwh_N_5-",
        "colab_type": "code",
        "colab": {
          "base_uri": "https://localhost:8080/",
          "height": 51
        },
        "outputId": "3a7d66cc-67ff-49e5-a892-eadcac4fa2ec"
      },
      "source": [
        "# find the greatest of two number\n",
        "def findLargest(a,b):\n",
        "  if a > b:\n",
        "    return a\n",
        "  else:\n",
        "    return b\n",
        "\n",
        "print(findLargest(4,2))\n",
        "\n",
        "print(findLargest(5,5.0))"
      ],
      "execution_count": 56,
      "outputs": [
        {
          "output_type": "stream",
          "text": [
            "4\n",
            "5.0\n"
          ],
          "name": "stdout"
        }
      ]
    },
    {
      "cell_type": "code",
      "metadata": {
        "id": "hRjSVqpXQ2ZO",
        "colab_type": "code",
        "colab": {
          "base_uri": "https://localhost:8080/",
          "height": 204
        },
        "outputId": "cda46483-2744-4e14-d1e3-9875266ba442"
      },
      "source": [
        "# wap a function find even and odd\n",
        "def evenOrodd(a):\n",
        "  if a%2 == 0:\n",
        "    return 'Even'\n",
        "  else:\n",
        "    return 'Odd'\n",
        "\n",
        "for i in range(0,11):\n",
        "  print('Number:',i,evenOrodd(i))"
      ],
      "execution_count": 55,
      "outputs": [
        {
          "output_type": "stream",
          "text": [
            "Number: 0 Even\n",
            "Number: 1 Odd\n",
            "Number: 2 Even\n",
            "Number: 3 Odd\n",
            "Number: 4 Even\n",
            "Number: 5 Odd\n",
            "Number: 6 Even\n",
            "Number: 7 Odd\n",
            "Number: 8 Even\n",
            "Number: 9 Odd\n",
            "Number: 10 Even\n"
          ],
          "name": "stdout"
        }
      ]
    },
    {
      "cell_type": "code",
      "metadata": {
        "id": "IGNEAkLgRx77",
        "colab_type": "code",
        "colab": {
          "base_uri": "https://localhost:8080/",
          "height": 136
        },
        "outputId": "ab415fba-950e-4809-b75f-a17c38db7fdc"
      },
      "source": [
        "# ndefine a function to add key and value in dicstionary, if it does't exist ,\n",
        "# otherwise inc\n",
        "\n",
        "dict_1 = {}\n",
        "def addItem(d,k,v=1):\n",
        "  if k in d:\n",
        "    d[k] = v+1\n",
        "  else:\n",
        "    d[k] = v\n",
        "  return d\n",
        "\n",
        "print(addItem(dict_1,'Hello'))\n",
        "print(addItem(dict_1,'World'))\n",
        "print(addItem(dict_1,'Python'))\n",
        "print(addItem(dict_1,'C#'))\n",
        "print(addItem(dict_1,'Java'))\n",
        "\n",
        "#question 2\n",
        "dict_1 = {} # empty dictionary\n",
        "print(dict_1)\n",
        "def addItemDict(dict_,key,value):\n",
        "  if len(dict_) >= 0:\n",
        "    dict_[key] = value\n",
        "\n",
        "addItemDict(dict_1,'Hello',0)\n",
        "addItemDict(dict_1,'World',1)\n",
        "addItemDict(dict_1,1,'Something')\n",
        "addItemDict(dict_1,'Value',True)\n",
        "\n",
        "print(dict_1)"
      ],
      "execution_count": 64,
      "outputs": [
        {
          "output_type": "stream",
          "text": [
            "{'Hello': 1}\n",
            "{'Hello': 1, 'World': 1}\n",
            "{'Hello': 1, 'World': 1, 'Python': 1}\n",
            "{'Hello': 1, 'World': 1, 'Python': 1, 'C#': 1}\n",
            "{'Hello': 1, 'World': 1, 'Python': 1, 'C#': 1, 'Java': 1}\n",
            "{}\n",
            "{'Hello': 0, 'World': 1, 1: 'Something', 'Value': True}\n"
          ],
          "name": "stdout"
        }
      ]
    },
    {
      "cell_type": "markdown",
      "metadata": {
        "id": "ZF2jwP8CXV53",
        "colab_type": "text"
      },
      "source": [
        "#classes in python"
      ]
    },
    {
      "cell_type": "code",
      "metadata": {
        "id": "2TRsgS0LVKG_",
        "colab_type": "code",
        "colab": {
          "base_uri": "https://localhost:8080/",
          "height": 34
        },
        "outputId": "8bc587bf-b2f5-4341-9eb3-8b70f7435689"
      },
      "source": [
        "class First_Lab:\n",
        "  def __init__(self):\n",
        "    self.dict_1 = dict() #  Empty dictionary\n",
        "\n",
        "object = First_Lab() # instantiate class\n",
        "print('Empty Dictionary:',object.dict_1)"
      ],
      "execution_count": 67,
      "outputs": [
        {
          "output_type": "stream",
          "text": [
            "Empty Dictionary: {}\n"
          ],
          "name": "stdout"
        }
      ]
    },
    {
      "cell_type": "code",
      "metadata": {
        "id": "e9Sy51Q9XupC",
        "colab_type": "code",
        "colab": {}
      },
      "source": [
        ""
      ],
      "execution_count": 0,
      "outputs": []
    }
  ]
}